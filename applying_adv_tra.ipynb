{
  "nbformat": 4,
  "nbformat_minor": 0,
  "metadata": {
    "colab": {
      "provenance": [],
      "authorship_tag": "ABX9TyPSPfhj8U/qTFTNYGUH58Yx",
      "include_colab_link": true
    },
    "kernelspec": {
      "name": "python3",
      "display_name": "Python 3"
    },
    "language_info": {
      "name": "python"
    }
  },
  "cells": [
    {
      "cell_type": "markdown",
      "metadata": {
        "id": "view-in-github",
        "colab_type": "text"
      },
      "source": [
        "<a href=\"https://colab.research.google.com/github/john-a-dixon/applying-advanced-transformations/blob/main/applying_adv_tra.ipynb\" target=\"_parent\"><img src=\"https://colab.research.google.com/assets/colab-badge.svg\" alt=\"Open In Colab\"/></a>"
      ]
    },
    {
      "cell_type": "markdown",
      "source": [
        "# **Applying Advanced Transformations**\n",
        "\n",
        "_John Andrew Dixon_\n",
        "\n",
        "---"
      ],
      "metadata": {
        "id": "b5uDUeSnHcmd"
      }
    },
    {
      "cell_type": "markdown",
      "source": [
        "##### **Imports**"
      ],
      "metadata": {
        "id": "AWJXJO0dHve1"
      }
    },
    {
      "cell_type": "code",
      "source": [
        "import pandas as pd"
      ],
      "metadata": {
        "id": "c_ZT7lQ0HwR9"
      },
      "execution_count": 1,
      "outputs": []
    }
  ]
}